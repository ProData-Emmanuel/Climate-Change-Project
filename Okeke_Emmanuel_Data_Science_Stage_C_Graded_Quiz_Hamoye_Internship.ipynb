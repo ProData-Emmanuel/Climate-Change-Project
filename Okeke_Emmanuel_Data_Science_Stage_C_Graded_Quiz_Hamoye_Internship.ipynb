{
  "nbformat": 4,
  "nbformat_minor": 0,
  "metadata": {
    "colab": {
      "name": "Okeke-Emmanuel-Data-Science-Stage C-Graded-Quiz-Hamoye-Internship.ipynb",
      "provenance": [],
      "collapsed_sections": [],
      "authorship_tag": "ABX9TyPfR6BHOTUMd5cF7Dwmy7Ff",
      "include_colab_link": true
    },
    "kernelspec": {
      "name": "python3",
      "display_name": "Python 3"
    }
  },
  "cells": [
    {
      "cell_type": "markdown",
      "metadata": {
        "id": "view-in-github",
        "colab_type": "text"
      },
      "source": [
        "<a href=\"https://colab.research.google.com/github/ProData-Emmanuel/Climate-Change-Project/blob/master/Okeke_Emmanuel_Data_Science_Stage_C_Graded_Quiz_Hamoye_Internship.ipynb\" target=\"_parent\"><img src=\"https://colab.research.google.com/assets/colab-badge.svg\" alt=\"Open In Colab\"/></a>"
      ]
    },
    {
      "cell_type": "markdown",
      "metadata": {
        "id": "W5kJ-oBAQohJ",
        "colab_type": "text"
      },
      "source": [
        "# Dataset Description\n",
        "\n",
        "## AIM: To Predict Stability of a Grid System\n",
        "\n",
        "Electrical grids require a balance between electricity supply and demand in order to be stable. Conventional systems achieve this balance through demand-driven electricity production. For future grids with a high share of inflexible (i.e., renewable) energy source, the concept of demand response is a promising solution. This implies changes in electricity consumption in relation to electricity price changes. **In this project, a binary classification model is was built to predict if a grid is stable or unstable using the UCI Electrical Grid Stability Simulated dataset.** (https://archive.ics.uci.edu/ml/datasets/Electrical+Grid+Stability+Simulated+Data+)\n"
      ]
    },
    {
      "cell_type": "markdown",
      "metadata": {
        "id": "3z2GIrnYTH5i",
        "colab_type": "text"
      },
      "source": [
        "#### It has 12 primary predictive features and two dependent variables.\n",
        "**Predictive features:**\t\n",
        "1.\t'tau1' to 'tau4': the reaction time of each network participant, a real value within the range 0.5 to 10 ('tau1' corresponds to the supplier node, 'tau2' to 'tau4' to the consumer nodes);\n",
        "2.\t'p1' to 'p4': nominal power produced (positive) or consumed (negative) by each network participant, a real value within the range -2.0 to -0.5 for consumers ('p2' to 'p4'). As the total power consumed equals the total power generated, p1 (supplier node) = - (p2 + p3 + p4);\n",
        "3.\t'g1' to 'g4': price elasticity coefficient for each network participant, a real value within the range 0.05 to 1.00 ('g1' corresponds to the supplier node, 'g2' to 'g4' to the consumer nodes; 'g' stands for 'gamma');\n",
        "**Dependent variables:**\n",
        "1.\t'stab': the maximum real part of the characteristic differential equation root (if positive, the system is linearly unstable; if negative, linearly stable);\n",
        "2.\t'stabf': a categorical (binary) label ('stable' or 'unstable').\n",
        "\n",
        "**Because of the direct relationship between 'stab' and 'stabf' ('stabf' = 'stable' if 'stab' <= 0, 'unstable' otherwise), 'stab' should be dropped and 'stabf' will remain as the sole dependent variable (binary classification).**\n"
      ]
    },
    {
      "cell_type": "code",
      "metadata": {
        "id": "0-KYTELXKD8_",
        "colab_type": "code",
        "colab": {
          "base_uri": "https://localhost:8080/",
          "height": 419
        },
        "outputId": "4a58ca64-7538-42c4-ea6b-4f2e1fa4f9ef"
      },
      "source": [
        "import pandas as pd\n",
        "url = \"https://archive.ics.uci.edu/ml/machine-learning-databases/00471/Data_for_UCI_named.csv\"\n",
        "df = pd.read_csv(url)\n",
        "df"
      ],
      "execution_count": 14,
      "outputs": [
        {
          "output_type": "execute_result",
          "data": {
            "text/html": [
              "<div>\n",
              "<style scoped>\n",
              "    .dataframe tbody tr th:only-of-type {\n",
              "        vertical-align: middle;\n",
              "    }\n",
              "\n",
              "    .dataframe tbody tr th {\n",
              "        vertical-align: top;\n",
              "    }\n",
              "\n",
              "    .dataframe thead th {\n",
              "        text-align: right;\n",
              "    }\n",
              "</style>\n",
              "<table border=\"1\" class=\"dataframe\">\n",
              "  <thead>\n",
              "    <tr style=\"text-align: right;\">\n",
              "      <th></th>\n",
              "      <th>tau1</th>\n",
              "      <th>tau2</th>\n",
              "      <th>tau3</th>\n",
              "      <th>tau4</th>\n",
              "      <th>p1</th>\n",
              "      <th>p2</th>\n",
              "      <th>p3</th>\n",
              "      <th>p4</th>\n",
              "      <th>g1</th>\n",
              "      <th>g2</th>\n",
              "      <th>g3</th>\n",
              "      <th>g4</th>\n",
              "      <th>stab</th>\n",
              "      <th>stabf</th>\n",
              "    </tr>\n",
              "  </thead>\n",
              "  <tbody>\n",
              "    <tr>\n",
              "      <th>0</th>\n",
              "      <td>2.959060</td>\n",
              "      <td>3.079885</td>\n",
              "      <td>8.381025</td>\n",
              "      <td>9.780754</td>\n",
              "      <td>3.763085</td>\n",
              "      <td>-0.782604</td>\n",
              "      <td>-1.257395</td>\n",
              "      <td>-1.723086</td>\n",
              "      <td>0.650456</td>\n",
              "      <td>0.859578</td>\n",
              "      <td>0.887445</td>\n",
              "      <td>0.958034</td>\n",
              "      <td>0.055347</td>\n",
              "      <td>unstable</td>\n",
              "    </tr>\n",
              "    <tr>\n",
              "      <th>1</th>\n",
              "      <td>9.304097</td>\n",
              "      <td>4.902524</td>\n",
              "      <td>3.047541</td>\n",
              "      <td>1.369357</td>\n",
              "      <td>5.067812</td>\n",
              "      <td>-1.940058</td>\n",
              "      <td>-1.872742</td>\n",
              "      <td>-1.255012</td>\n",
              "      <td>0.413441</td>\n",
              "      <td>0.862414</td>\n",
              "      <td>0.562139</td>\n",
              "      <td>0.781760</td>\n",
              "      <td>-0.005957</td>\n",
              "      <td>stable</td>\n",
              "    </tr>\n",
              "    <tr>\n",
              "      <th>2</th>\n",
              "      <td>8.971707</td>\n",
              "      <td>8.848428</td>\n",
              "      <td>3.046479</td>\n",
              "      <td>1.214518</td>\n",
              "      <td>3.405158</td>\n",
              "      <td>-1.207456</td>\n",
              "      <td>-1.277210</td>\n",
              "      <td>-0.920492</td>\n",
              "      <td>0.163041</td>\n",
              "      <td>0.766689</td>\n",
              "      <td>0.839444</td>\n",
              "      <td>0.109853</td>\n",
              "      <td>0.003471</td>\n",
              "      <td>unstable</td>\n",
              "    </tr>\n",
              "    <tr>\n",
              "      <th>3</th>\n",
              "      <td>0.716415</td>\n",
              "      <td>7.669600</td>\n",
              "      <td>4.486641</td>\n",
              "      <td>2.340563</td>\n",
              "      <td>3.963791</td>\n",
              "      <td>-1.027473</td>\n",
              "      <td>-1.938944</td>\n",
              "      <td>-0.997374</td>\n",
              "      <td>0.446209</td>\n",
              "      <td>0.976744</td>\n",
              "      <td>0.929381</td>\n",
              "      <td>0.362718</td>\n",
              "      <td>0.028871</td>\n",
              "      <td>unstable</td>\n",
              "    </tr>\n",
              "    <tr>\n",
              "      <th>4</th>\n",
              "      <td>3.134112</td>\n",
              "      <td>7.608772</td>\n",
              "      <td>4.943759</td>\n",
              "      <td>9.857573</td>\n",
              "      <td>3.525811</td>\n",
              "      <td>-1.125531</td>\n",
              "      <td>-1.845975</td>\n",
              "      <td>-0.554305</td>\n",
              "      <td>0.797110</td>\n",
              "      <td>0.455450</td>\n",
              "      <td>0.656947</td>\n",
              "      <td>0.820923</td>\n",
              "      <td>0.049860</td>\n",
              "      <td>unstable</td>\n",
              "    </tr>\n",
              "    <tr>\n",
              "      <th>...</th>\n",
              "      <td>...</td>\n",
              "      <td>...</td>\n",
              "      <td>...</td>\n",
              "      <td>...</td>\n",
              "      <td>...</td>\n",
              "      <td>...</td>\n",
              "      <td>...</td>\n",
              "      <td>...</td>\n",
              "      <td>...</td>\n",
              "      <td>...</td>\n",
              "      <td>...</td>\n",
              "      <td>...</td>\n",
              "      <td>...</td>\n",
              "      <td>...</td>\n",
              "    </tr>\n",
              "    <tr>\n",
              "      <th>9995</th>\n",
              "      <td>2.930406</td>\n",
              "      <td>9.487627</td>\n",
              "      <td>2.376523</td>\n",
              "      <td>6.187797</td>\n",
              "      <td>3.343416</td>\n",
              "      <td>-0.658054</td>\n",
              "      <td>-1.449106</td>\n",
              "      <td>-1.236256</td>\n",
              "      <td>0.601709</td>\n",
              "      <td>0.779642</td>\n",
              "      <td>0.813512</td>\n",
              "      <td>0.608385</td>\n",
              "      <td>0.023892</td>\n",
              "      <td>unstable</td>\n",
              "    </tr>\n",
              "    <tr>\n",
              "      <th>9996</th>\n",
              "      <td>3.392299</td>\n",
              "      <td>1.274827</td>\n",
              "      <td>2.954947</td>\n",
              "      <td>6.894759</td>\n",
              "      <td>4.349512</td>\n",
              "      <td>-1.663661</td>\n",
              "      <td>-0.952437</td>\n",
              "      <td>-1.733414</td>\n",
              "      <td>0.502079</td>\n",
              "      <td>0.567242</td>\n",
              "      <td>0.285880</td>\n",
              "      <td>0.366120</td>\n",
              "      <td>-0.025803</td>\n",
              "      <td>stable</td>\n",
              "    </tr>\n",
              "    <tr>\n",
              "      <th>9997</th>\n",
              "      <td>2.364034</td>\n",
              "      <td>2.842030</td>\n",
              "      <td>8.776391</td>\n",
              "      <td>1.008906</td>\n",
              "      <td>4.299976</td>\n",
              "      <td>-1.380719</td>\n",
              "      <td>-0.943884</td>\n",
              "      <td>-1.975373</td>\n",
              "      <td>0.487838</td>\n",
              "      <td>0.986505</td>\n",
              "      <td>0.149286</td>\n",
              "      <td>0.145984</td>\n",
              "      <td>-0.031810</td>\n",
              "      <td>stable</td>\n",
              "    </tr>\n",
              "    <tr>\n",
              "      <th>9998</th>\n",
              "      <td>9.631511</td>\n",
              "      <td>3.994398</td>\n",
              "      <td>2.757071</td>\n",
              "      <td>7.821347</td>\n",
              "      <td>2.514755</td>\n",
              "      <td>-0.966330</td>\n",
              "      <td>-0.649915</td>\n",
              "      <td>-0.898510</td>\n",
              "      <td>0.365246</td>\n",
              "      <td>0.587558</td>\n",
              "      <td>0.889118</td>\n",
              "      <td>0.818391</td>\n",
              "      <td>0.037789</td>\n",
              "      <td>unstable</td>\n",
              "    </tr>\n",
              "    <tr>\n",
              "      <th>9999</th>\n",
              "      <td>6.530527</td>\n",
              "      <td>6.781790</td>\n",
              "      <td>4.349695</td>\n",
              "      <td>8.673138</td>\n",
              "      <td>3.492807</td>\n",
              "      <td>-1.390285</td>\n",
              "      <td>-1.532193</td>\n",
              "      <td>-0.570329</td>\n",
              "      <td>0.073056</td>\n",
              "      <td>0.505441</td>\n",
              "      <td>0.378761</td>\n",
              "      <td>0.942631</td>\n",
              "      <td>0.045263</td>\n",
              "      <td>unstable</td>\n",
              "    </tr>\n",
              "  </tbody>\n",
              "</table>\n",
              "<p>10000 rows × 14 columns</p>\n",
              "</div>"
            ],
            "text/plain": [
              "          tau1      tau2      tau3  ...        g4      stab     stabf\n",
              "0     2.959060  3.079885  8.381025  ...  0.958034  0.055347  unstable\n",
              "1     9.304097  4.902524  3.047541  ...  0.781760 -0.005957    stable\n",
              "2     8.971707  8.848428  3.046479  ...  0.109853  0.003471  unstable\n",
              "3     0.716415  7.669600  4.486641  ...  0.362718  0.028871  unstable\n",
              "4     3.134112  7.608772  4.943759  ...  0.820923  0.049860  unstable\n",
              "...        ...       ...       ...  ...       ...       ...       ...\n",
              "9995  2.930406  9.487627  2.376523  ...  0.608385  0.023892  unstable\n",
              "9996  3.392299  1.274827  2.954947  ...  0.366120 -0.025803    stable\n",
              "9997  2.364034  2.842030  8.776391  ...  0.145984 -0.031810    stable\n",
              "9998  9.631511  3.994398  2.757071  ...  0.818391  0.037789  unstable\n",
              "9999  6.530527  6.781790  4.349695  ...  0.942631  0.045263  unstable\n",
              "\n",
              "[10000 rows x 14 columns]"
            ]
          },
          "metadata": {
            "tags": []
          },
          "execution_count": 14
        }
      ]
    },
    {
      "cell_type": "code",
      "metadata": {
        "id": "0FfYxr5JMx36",
        "colab_type": "code",
        "colab": {
          "base_uri": "https://localhost:8080/",
          "height": 68
        },
        "outputId": "114d55c1-8aad-4018-dd1f-358a28abeed1"
      },
      "source": [
        "df.columns"
      ],
      "execution_count": 47,
      "outputs": [
        {
          "output_type": "execute_result",
          "data": {
            "text/plain": [
              "Index(['tau1', 'tau2', 'tau3', 'tau4', 'p1', 'p2', 'p3', 'p4', 'g1', 'g2',\n",
              "       'g3', 'g4', 'stabf'],\n",
              "      dtype='object')"
            ]
          },
          "metadata": {
            "tags": []
          },
          "execution_count": 47
        }
      ]
    },
    {
      "cell_type": "markdown",
      "metadata": {
        "id": "k_thpeaSPA6m",
        "colab_type": "text"
      },
      "source": [
        "### Conducting Exploratory Data Analysis\n",
        "In this dataset, there are 12 input features and 2 outputs / target features. \"stab\" and \"stabf\" have direct relationship, and one can be dropped (\"stab\" is dropped in this case)."
      ]
    },
    {
      "cell_type": "code",
      "metadata": {
        "id": "h7m2FOXJQXVw",
        "colab_type": "code",
        "colab": {
          "base_uri": "https://localhost:8080/",
          "height": 272
        },
        "outputId": "971e82fd-4ef6-416a-c573-77c564d2e8a3"
      },
      "source": [
        "#checking for null values in the dataset\n",
        "df.isna().sum() "
      ],
      "execution_count": 15,
      "outputs": [
        {
          "output_type": "execute_result",
          "data": {
            "text/plain": [
              "tau1     0\n",
              "tau2     0\n",
              "tau3     0\n",
              "tau4     0\n",
              "p1       0\n",
              "p2       0\n",
              "p3       0\n",
              "p4       0\n",
              "g1       0\n",
              "g2       0\n",
              "g3       0\n",
              "g4       0\n",
              "stab     0\n",
              "stabf    0\n",
              "dtype: int64"
            ]
          },
          "metadata": {
            "tags": []
          },
          "execution_count": 15
        }
      ]
    },
    {
      "cell_type": "markdown",
      "metadata": {
        "id": "RdhGcQwMQBfi",
        "colab_type": "text"
      },
      "source": [
        "As expected, data cleaning/ wrangling isn't required since this is a simulated dataset. So we have a clean dataset with no missing values on our hands."
      ]
    },
    {
      "cell_type": "code",
      "metadata": {
        "id": "49lWih8c9hBs",
        "colab_type": "code",
        "colab": {
          "base_uri": "https://localhost:8080/",
          "height": 419
        },
        "outputId": "ab276840-9125-47ca-f2c9-c1ef3aba563c"
      },
      "source": [
        "df = df.drop(['stab'], axis=1)\n",
        "df"
      ],
      "execution_count": 16,
      "outputs": [
        {
          "output_type": "execute_result",
          "data": {
            "text/html": [
              "<div>\n",
              "<style scoped>\n",
              "    .dataframe tbody tr th:only-of-type {\n",
              "        vertical-align: middle;\n",
              "    }\n",
              "\n",
              "    .dataframe tbody tr th {\n",
              "        vertical-align: top;\n",
              "    }\n",
              "\n",
              "    .dataframe thead th {\n",
              "        text-align: right;\n",
              "    }\n",
              "</style>\n",
              "<table border=\"1\" class=\"dataframe\">\n",
              "  <thead>\n",
              "    <tr style=\"text-align: right;\">\n",
              "      <th></th>\n",
              "      <th>tau1</th>\n",
              "      <th>tau2</th>\n",
              "      <th>tau3</th>\n",
              "      <th>tau4</th>\n",
              "      <th>p1</th>\n",
              "      <th>p2</th>\n",
              "      <th>p3</th>\n",
              "      <th>p4</th>\n",
              "      <th>g1</th>\n",
              "      <th>g2</th>\n",
              "      <th>g3</th>\n",
              "      <th>g4</th>\n",
              "      <th>stabf</th>\n",
              "    </tr>\n",
              "  </thead>\n",
              "  <tbody>\n",
              "    <tr>\n",
              "      <th>0</th>\n",
              "      <td>2.959060</td>\n",
              "      <td>3.079885</td>\n",
              "      <td>8.381025</td>\n",
              "      <td>9.780754</td>\n",
              "      <td>3.763085</td>\n",
              "      <td>-0.782604</td>\n",
              "      <td>-1.257395</td>\n",
              "      <td>-1.723086</td>\n",
              "      <td>0.650456</td>\n",
              "      <td>0.859578</td>\n",
              "      <td>0.887445</td>\n",
              "      <td>0.958034</td>\n",
              "      <td>unstable</td>\n",
              "    </tr>\n",
              "    <tr>\n",
              "      <th>1</th>\n",
              "      <td>9.304097</td>\n",
              "      <td>4.902524</td>\n",
              "      <td>3.047541</td>\n",
              "      <td>1.369357</td>\n",
              "      <td>5.067812</td>\n",
              "      <td>-1.940058</td>\n",
              "      <td>-1.872742</td>\n",
              "      <td>-1.255012</td>\n",
              "      <td>0.413441</td>\n",
              "      <td>0.862414</td>\n",
              "      <td>0.562139</td>\n",
              "      <td>0.781760</td>\n",
              "      <td>stable</td>\n",
              "    </tr>\n",
              "    <tr>\n",
              "      <th>2</th>\n",
              "      <td>8.971707</td>\n",
              "      <td>8.848428</td>\n",
              "      <td>3.046479</td>\n",
              "      <td>1.214518</td>\n",
              "      <td>3.405158</td>\n",
              "      <td>-1.207456</td>\n",
              "      <td>-1.277210</td>\n",
              "      <td>-0.920492</td>\n",
              "      <td>0.163041</td>\n",
              "      <td>0.766689</td>\n",
              "      <td>0.839444</td>\n",
              "      <td>0.109853</td>\n",
              "      <td>unstable</td>\n",
              "    </tr>\n",
              "    <tr>\n",
              "      <th>3</th>\n",
              "      <td>0.716415</td>\n",
              "      <td>7.669600</td>\n",
              "      <td>4.486641</td>\n",
              "      <td>2.340563</td>\n",
              "      <td>3.963791</td>\n",
              "      <td>-1.027473</td>\n",
              "      <td>-1.938944</td>\n",
              "      <td>-0.997374</td>\n",
              "      <td>0.446209</td>\n",
              "      <td>0.976744</td>\n",
              "      <td>0.929381</td>\n",
              "      <td>0.362718</td>\n",
              "      <td>unstable</td>\n",
              "    </tr>\n",
              "    <tr>\n",
              "      <th>4</th>\n",
              "      <td>3.134112</td>\n",
              "      <td>7.608772</td>\n",
              "      <td>4.943759</td>\n",
              "      <td>9.857573</td>\n",
              "      <td>3.525811</td>\n",
              "      <td>-1.125531</td>\n",
              "      <td>-1.845975</td>\n",
              "      <td>-0.554305</td>\n",
              "      <td>0.797110</td>\n",
              "      <td>0.455450</td>\n",
              "      <td>0.656947</td>\n",
              "      <td>0.820923</td>\n",
              "      <td>unstable</td>\n",
              "    </tr>\n",
              "    <tr>\n",
              "      <th>...</th>\n",
              "      <td>...</td>\n",
              "      <td>...</td>\n",
              "      <td>...</td>\n",
              "      <td>...</td>\n",
              "      <td>...</td>\n",
              "      <td>...</td>\n",
              "      <td>...</td>\n",
              "      <td>...</td>\n",
              "      <td>...</td>\n",
              "      <td>...</td>\n",
              "      <td>...</td>\n",
              "      <td>...</td>\n",
              "      <td>...</td>\n",
              "    </tr>\n",
              "    <tr>\n",
              "      <th>9995</th>\n",
              "      <td>2.930406</td>\n",
              "      <td>9.487627</td>\n",
              "      <td>2.376523</td>\n",
              "      <td>6.187797</td>\n",
              "      <td>3.343416</td>\n",
              "      <td>-0.658054</td>\n",
              "      <td>-1.449106</td>\n",
              "      <td>-1.236256</td>\n",
              "      <td>0.601709</td>\n",
              "      <td>0.779642</td>\n",
              "      <td>0.813512</td>\n",
              "      <td>0.608385</td>\n",
              "      <td>unstable</td>\n",
              "    </tr>\n",
              "    <tr>\n",
              "      <th>9996</th>\n",
              "      <td>3.392299</td>\n",
              "      <td>1.274827</td>\n",
              "      <td>2.954947</td>\n",
              "      <td>6.894759</td>\n",
              "      <td>4.349512</td>\n",
              "      <td>-1.663661</td>\n",
              "      <td>-0.952437</td>\n",
              "      <td>-1.733414</td>\n",
              "      <td>0.502079</td>\n",
              "      <td>0.567242</td>\n",
              "      <td>0.285880</td>\n",
              "      <td>0.366120</td>\n",
              "      <td>stable</td>\n",
              "    </tr>\n",
              "    <tr>\n",
              "      <th>9997</th>\n",
              "      <td>2.364034</td>\n",
              "      <td>2.842030</td>\n",
              "      <td>8.776391</td>\n",
              "      <td>1.008906</td>\n",
              "      <td>4.299976</td>\n",
              "      <td>-1.380719</td>\n",
              "      <td>-0.943884</td>\n",
              "      <td>-1.975373</td>\n",
              "      <td>0.487838</td>\n",
              "      <td>0.986505</td>\n",
              "      <td>0.149286</td>\n",
              "      <td>0.145984</td>\n",
              "      <td>stable</td>\n",
              "    </tr>\n",
              "    <tr>\n",
              "      <th>9998</th>\n",
              "      <td>9.631511</td>\n",
              "      <td>3.994398</td>\n",
              "      <td>2.757071</td>\n",
              "      <td>7.821347</td>\n",
              "      <td>2.514755</td>\n",
              "      <td>-0.966330</td>\n",
              "      <td>-0.649915</td>\n",
              "      <td>-0.898510</td>\n",
              "      <td>0.365246</td>\n",
              "      <td>0.587558</td>\n",
              "      <td>0.889118</td>\n",
              "      <td>0.818391</td>\n",
              "      <td>unstable</td>\n",
              "    </tr>\n",
              "    <tr>\n",
              "      <th>9999</th>\n",
              "      <td>6.530527</td>\n",
              "      <td>6.781790</td>\n",
              "      <td>4.349695</td>\n",
              "      <td>8.673138</td>\n",
              "      <td>3.492807</td>\n",
              "      <td>-1.390285</td>\n",
              "      <td>-1.532193</td>\n",
              "      <td>-0.570329</td>\n",
              "      <td>0.073056</td>\n",
              "      <td>0.505441</td>\n",
              "      <td>0.378761</td>\n",
              "      <td>0.942631</td>\n",
              "      <td>unstable</td>\n",
              "    </tr>\n",
              "  </tbody>\n",
              "</table>\n",
              "<p>10000 rows × 13 columns</p>\n",
              "</div>"
            ],
            "text/plain": [
              "          tau1      tau2      tau3  ...        g3        g4     stabf\n",
              "0     2.959060  3.079885  8.381025  ...  0.887445  0.958034  unstable\n",
              "1     9.304097  4.902524  3.047541  ...  0.562139  0.781760    stable\n",
              "2     8.971707  8.848428  3.046479  ...  0.839444  0.109853  unstable\n",
              "3     0.716415  7.669600  4.486641  ...  0.929381  0.362718  unstable\n",
              "4     3.134112  7.608772  4.943759  ...  0.656947  0.820923  unstable\n",
              "...        ...       ...       ...  ...       ...       ...       ...\n",
              "9995  2.930406  9.487627  2.376523  ...  0.813512  0.608385  unstable\n",
              "9996  3.392299  1.274827  2.954947  ...  0.285880  0.366120    stable\n",
              "9997  2.364034  2.842030  8.776391  ...  0.149286  0.145984    stable\n",
              "9998  9.631511  3.994398  2.757071  ...  0.889118  0.818391  unstable\n",
              "9999  6.530527  6.781790  4.349695  ...  0.378761  0.942631  unstable\n",
              "\n",
              "[10000 rows x 13 columns]"
            ]
          },
          "metadata": {
            "tags": []
          },
          "execution_count": 16
        }
      ]
    },
    {
      "cell_type": "code",
      "metadata": {
        "id": "Cy4F3FT5UWPF",
        "colab_type": "code",
        "colab": {
          "base_uri": "https://localhost:8080/",
          "height": 68
        },
        "outputId": "d6719940-4334-4f68-f50e-0ed14e21a639"
      },
      "source": [
        "#check the distribution of target variables\n",
        "df['stabf'].value_counts()"
      ],
      "execution_count": 17,
      "outputs": [
        {
          "output_type": "execute_result",
          "data": {
            "text/plain": [
              "unstable    6380\n",
              "stable      3620\n",
              "Name: stabf, dtype: int64"
            ]
          },
          "metadata": {
            "tags": []
          },
          "execution_count": 17
        }
      ]
    },
    {
      "cell_type": "code",
      "metadata": {
        "id": "pnTGgeKe9xkE",
        "colab_type": "code",
        "colab": {
          "base_uri": "https://localhost:8080/",
          "height": 255
        },
        "outputId": "88fe93e8-2c31-45e9-f10f-74516a5fde23"
      },
      "source": [
        "df.dtypes"
      ],
      "execution_count": 18,
      "outputs": [
        {
          "output_type": "execute_result",
          "data": {
            "text/plain": [
              "tau1     float64\n",
              "tau2     float64\n",
              "tau3     float64\n",
              "tau4     float64\n",
              "p1       float64\n",
              "p2       float64\n",
              "p3       float64\n",
              "p4       float64\n",
              "g1       float64\n",
              "g2       float64\n",
              "g3       float64\n",
              "g4       float64\n",
              "stabf     object\n",
              "dtype: object"
            ]
          },
          "metadata": {
            "tags": []
          },
          "execution_count": 18
        }
      ]
    },
    {
      "cell_type": "markdown",
      "metadata": {
        "id": "61oNxScw-eMh",
        "colab_type": "text"
      },
      "source": [
        "The labels has categorical values, and can be encoded to be useful in the ML\n",
        "\n",
        "\n"
      ]
    },
    {
      "cell_type": "code",
      "metadata": {
        "id": "BWRaFtcX-vZ2",
        "colab_type": "code",
        "colab": {}
      },
      "source": [
        "# Encoding the labels using LabelEncoder\n",
        "from sklearn.preprocessing import LabelEncoder\n",
        "encoder = LabelEncoder()\n",
        "df.stabf = encoder.fit_transform(df.stabf)\n",
        "\n"
      ],
      "execution_count": 19,
      "outputs": []
    },
    {
      "cell_type": "code",
      "metadata": {
        "id": "Wcq8kWAJA3kK",
        "colab_type": "code",
        "colab": {
          "base_uri": "https://localhost:8080/",
          "height": 204
        },
        "outputId": "4ea9ec27-ab8b-4036-de12-c7622d8213d1"
      },
      "source": [
        "df.head()"
      ],
      "execution_count": 20,
      "outputs": [
        {
          "output_type": "execute_result",
          "data": {
            "text/html": [
              "<div>\n",
              "<style scoped>\n",
              "    .dataframe tbody tr th:only-of-type {\n",
              "        vertical-align: middle;\n",
              "    }\n",
              "\n",
              "    .dataframe tbody tr th {\n",
              "        vertical-align: top;\n",
              "    }\n",
              "\n",
              "    .dataframe thead th {\n",
              "        text-align: right;\n",
              "    }\n",
              "</style>\n",
              "<table border=\"1\" class=\"dataframe\">\n",
              "  <thead>\n",
              "    <tr style=\"text-align: right;\">\n",
              "      <th></th>\n",
              "      <th>tau1</th>\n",
              "      <th>tau2</th>\n",
              "      <th>tau3</th>\n",
              "      <th>tau4</th>\n",
              "      <th>p1</th>\n",
              "      <th>p2</th>\n",
              "      <th>p3</th>\n",
              "      <th>p4</th>\n",
              "      <th>g1</th>\n",
              "      <th>g2</th>\n",
              "      <th>g3</th>\n",
              "      <th>g4</th>\n",
              "      <th>stabf</th>\n",
              "    </tr>\n",
              "  </thead>\n",
              "  <tbody>\n",
              "    <tr>\n",
              "      <th>0</th>\n",
              "      <td>2.959060</td>\n",
              "      <td>3.079885</td>\n",
              "      <td>8.381025</td>\n",
              "      <td>9.780754</td>\n",
              "      <td>3.763085</td>\n",
              "      <td>-0.782604</td>\n",
              "      <td>-1.257395</td>\n",
              "      <td>-1.723086</td>\n",
              "      <td>0.650456</td>\n",
              "      <td>0.859578</td>\n",
              "      <td>0.887445</td>\n",
              "      <td>0.958034</td>\n",
              "      <td>1</td>\n",
              "    </tr>\n",
              "    <tr>\n",
              "      <th>1</th>\n",
              "      <td>9.304097</td>\n",
              "      <td>4.902524</td>\n",
              "      <td>3.047541</td>\n",
              "      <td>1.369357</td>\n",
              "      <td>5.067812</td>\n",
              "      <td>-1.940058</td>\n",
              "      <td>-1.872742</td>\n",
              "      <td>-1.255012</td>\n",
              "      <td>0.413441</td>\n",
              "      <td>0.862414</td>\n",
              "      <td>0.562139</td>\n",
              "      <td>0.781760</td>\n",
              "      <td>0</td>\n",
              "    </tr>\n",
              "    <tr>\n",
              "      <th>2</th>\n",
              "      <td>8.971707</td>\n",
              "      <td>8.848428</td>\n",
              "      <td>3.046479</td>\n",
              "      <td>1.214518</td>\n",
              "      <td>3.405158</td>\n",
              "      <td>-1.207456</td>\n",
              "      <td>-1.277210</td>\n",
              "      <td>-0.920492</td>\n",
              "      <td>0.163041</td>\n",
              "      <td>0.766689</td>\n",
              "      <td>0.839444</td>\n",
              "      <td>0.109853</td>\n",
              "      <td>1</td>\n",
              "    </tr>\n",
              "    <tr>\n",
              "      <th>3</th>\n",
              "      <td>0.716415</td>\n",
              "      <td>7.669600</td>\n",
              "      <td>4.486641</td>\n",
              "      <td>2.340563</td>\n",
              "      <td>3.963791</td>\n",
              "      <td>-1.027473</td>\n",
              "      <td>-1.938944</td>\n",
              "      <td>-0.997374</td>\n",
              "      <td>0.446209</td>\n",
              "      <td>0.976744</td>\n",
              "      <td>0.929381</td>\n",
              "      <td>0.362718</td>\n",
              "      <td>1</td>\n",
              "    </tr>\n",
              "    <tr>\n",
              "      <th>4</th>\n",
              "      <td>3.134112</td>\n",
              "      <td>7.608772</td>\n",
              "      <td>4.943759</td>\n",
              "      <td>9.857573</td>\n",
              "      <td>3.525811</td>\n",
              "      <td>-1.125531</td>\n",
              "      <td>-1.845975</td>\n",
              "      <td>-0.554305</td>\n",
              "      <td>0.797110</td>\n",
              "      <td>0.455450</td>\n",
              "      <td>0.656947</td>\n",
              "      <td>0.820923</td>\n",
              "      <td>1</td>\n",
              "    </tr>\n",
              "  </tbody>\n",
              "</table>\n",
              "</div>"
            ],
            "text/plain": [
              "       tau1      tau2      tau3      tau4  ...        g2        g3        g4  stabf\n",
              "0  2.959060  3.079885  8.381025  9.780754  ...  0.859578  0.887445  0.958034      1\n",
              "1  9.304097  4.902524  3.047541  1.369357  ...  0.862414  0.562139  0.781760      0\n",
              "2  8.971707  8.848428  3.046479  1.214518  ...  0.766689  0.839444  0.109853      1\n",
              "3  0.716415  7.669600  4.486641  2.340563  ...  0.976744  0.929381  0.362718      1\n",
              "4  3.134112  7.608772  4.943759  9.857573  ...  0.455450  0.656947  0.820923      1\n",
              "\n",
              "[5 rows x 13 columns]"
            ]
          },
          "metadata": {
            "tags": []
          },
          "execution_count": 20
        }
      ]
    },
    {
      "cell_type": "code",
      "metadata": {
        "id": "tkCm_0h3GAFd",
        "colab_type": "code",
        "colab": {}
      },
      "source": [
        "# splitting the Data set into 80-20\n",
        "features_df = df.drop(columns=[\"stabf\"])\n",
        "target_var = df[\"stabf\"]\n",
        "from sklearn.model_selection import train_test_split\n",
        "x_train, x_test, y_train, y_test = train_test_split(features_df, target_var, test_size=0.2, random_state=1)\n"
      ],
      "execution_count": 21,
      "outputs": []
    },
    {
      "cell_type": "code",
      "metadata": {
        "id": "0srNz5XhTmvO",
        "colab_type": "code",
        "colab": {}
      },
      "source": [
        "x_test"
      ],
      "execution_count": null,
      "outputs": []
    },
    {
      "cell_type": "code",
      "metadata": {
        "id": "RGMPG2OjPjd2",
        "colab_type": "code",
        "colab": {}
      },
      "source": [
        "from sklearn.preprocessing import StandardScaler\n",
        "scaler = StandardScaler()\n",
        "normalised_train = scaler.fit_transform(x_train)\n",
        "normalised_test = scaler.transform(x_test)"
      ],
      "execution_count": 22,
      "outputs": []
    },
    {
      "cell_type": "code",
      "metadata": {
        "id": "ZwgD4ig5Rc9A",
        "colab_type": "code",
        "colab": {
          "base_uri": "https://localhost:8080/",
          "height": 204
        },
        "outputId": "34343408-9282-4fa2-e0fb-86f8c6f7443b"
      },
      "source": [
        "normalised_train_df = pd.DataFrame(normalised_train, columns=x_train.columns)\n",
        "normalised_test_df = pd.DataFrame(normalised_test, columns=x_test.columns)\n",
        "normalised_test_df.head()\n"
      ],
      "execution_count": 23,
      "outputs": [
        {
          "output_type": "execute_result",
          "data": {
            "text/html": [
              "<div>\n",
              "<style scoped>\n",
              "    .dataframe tbody tr th:only-of-type {\n",
              "        vertical-align: middle;\n",
              "    }\n",
              "\n",
              "    .dataframe tbody tr th {\n",
              "        vertical-align: top;\n",
              "    }\n",
              "\n",
              "    .dataframe thead th {\n",
              "        text-align: right;\n",
              "    }\n",
              "</style>\n",
              "<table border=\"1\" class=\"dataframe\">\n",
              "  <thead>\n",
              "    <tr style=\"text-align: right;\">\n",
              "      <th></th>\n",
              "      <th>tau1</th>\n",
              "      <th>tau2</th>\n",
              "      <th>tau3</th>\n",
              "      <th>tau4</th>\n",
              "      <th>p1</th>\n",
              "      <th>p2</th>\n",
              "      <th>p3</th>\n",
              "      <th>p4</th>\n",
              "      <th>g1</th>\n",
              "      <th>g2</th>\n",
              "      <th>g3</th>\n",
              "      <th>g4</th>\n",
              "    </tr>\n",
              "  </thead>\n",
              "  <tbody>\n",
              "    <tr>\n",
              "      <th>0</th>\n",
              "      <td>0.593951</td>\n",
              "      <td>-0.412733</td>\n",
              "      <td>1.503924</td>\n",
              "      <td>1.116943</td>\n",
              "      <td>0.403423</td>\n",
              "      <td>-1.492971</td>\n",
              "      <td>-0.785033</td>\n",
              "      <td>1.566781</td>\n",
              "      <td>-0.901007</td>\n",
              "      <td>1.167203</td>\n",
              "      <td>-1.507330</td>\n",
              "      <td>1.084726</td>\n",
              "    </tr>\n",
              "    <tr>\n",
              "      <th>1</th>\n",
              "      <td>0.202190</td>\n",
              "      <td>0.374416</td>\n",
              "      <td>-0.188800</td>\n",
              "      <td>-0.522268</td>\n",
              "      <td>-0.225967</td>\n",
              "      <td>-1.058483</td>\n",
              "      <td>0.420047</td>\n",
              "      <td>1.028627</td>\n",
              "      <td>-1.625721</td>\n",
              "      <td>-0.395660</td>\n",
              "      <td>1.414651</td>\n",
              "      <td>1.226011</td>\n",
              "    </tr>\n",
              "    <tr>\n",
              "      <th>2</th>\n",
              "      <td>-1.079044</td>\n",
              "      <td>-0.313745</td>\n",
              "      <td>-0.884634</td>\n",
              "      <td>0.017080</td>\n",
              "      <td>-0.943122</td>\n",
              "      <td>0.112653</td>\n",
              "      <td>0.801335</td>\n",
              "      <td>0.733004</td>\n",
              "      <td>1.457108</td>\n",
              "      <td>-1.438495</td>\n",
              "      <td>0.651821</td>\n",
              "      <td>-1.682168</td>\n",
              "    </tr>\n",
              "    <tr>\n",
              "      <th>3</th>\n",
              "      <td>-0.083120</td>\n",
              "      <td>-1.107327</td>\n",
              "      <td>0.372805</td>\n",
              "      <td>-1.708152</td>\n",
              "      <td>0.753990</td>\n",
              "      <td>-1.637972</td>\n",
              "      <td>0.403805</td>\n",
              "      <td>-0.088036</td>\n",
              "      <td>0.083322</td>\n",
              "      <td>-1.672322</td>\n",
              "      <td>-0.357714</td>\n",
              "      <td>1.055865</td>\n",
              "    </tr>\n",
              "    <tr>\n",
              "      <th>4</th>\n",
              "      <td>0.873921</td>\n",
              "      <td>1.438466</td>\n",
              "      <td>0.086662</td>\n",
              "      <td>1.715037</td>\n",
              "      <td>-0.153880</td>\n",
              "      <td>-0.007015</td>\n",
              "      <td>-0.197053</td>\n",
              "      <td>0.472315</td>\n",
              "      <td>0.136549</td>\n",
              "      <td>-1.469731</td>\n",
              "      <td>0.956396</td>\n",
              "      <td>-0.819727</td>\n",
              "    </tr>\n",
              "  </tbody>\n",
              "</table>\n",
              "</div>"
            ],
            "text/plain": [
              "       tau1      tau2      tau3  ...        g2        g3        g4\n",
              "0  0.593951 -0.412733  1.503924  ...  1.167203 -1.507330  1.084726\n",
              "1  0.202190  0.374416 -0.188800  ... -0.395660  1.414651  1.226011\n",
              "2 -1.079044 -0.313745 -0.884634  ... -1.438495  0.651821 -1.682168\n",
              "3 -0.083120 -1.107327  0.372805  ... -1.672322 -0.357714  1.055865\n",
              "4  0.873921  1.438466  0.086662  ... -1.469731  0.956396 -0.819727\n",
              "\n",
              "[5 rows x 12 columns]"
            ]
          },
          "metadata": {
            "tags": []
          },
          "execution_count": 23
        }
      ]
    },
    {
      "cell_type": "code",
      "metadata": {
        "id": "RBixkqmsXkGp",
        "colab_type": "code",
        "colab": {
          "base_uri": "https://localhost:8080/",
          "height": 102
        },
        "outputId": "327f56bf-a789-4c4f-829f-d683f7567356"
      },
      "source": [
        "# Selecting a Binary Classifier model, Logistic Regression and importing the libraries\n",
        "\n",
        "from sklearn.linear_model import LogisticRegression\n",
        "log_reg = LogisticRegression()\n",
        "\n",
        "# Fit the Classifier with the train features\n",
        "log_reg.fit(normalised_train_df, y_train)\n"
      ],
      "execution_count": 25,
      "outputs": [
        {
          "output_type": "execute_result",
          "data": {
            "text/plain": [
              "LogisticRegression(C=1.0, class_weight=None, dual=False, fit_intercept=True,\n",
              "                   intercept_scaling=1, l1_ratio=None, max_iter=100,\n",
              "                   multi_class='auto', n_jobs=None, penalty='l2',\n",
              "                   random_state=None, solver='lbfgs', tol=0.0001, verbose=0,\n",
              "                   warm_start=False)"
            ]
          },
          "metadata": {
            "tags": []
          },
          "execution_count": 25
        }
      ]
    },
    {
      "cell_type": "code",
      "metadata": {
        "id": "qjLhKbaFcEew",
        "colab_type": "code",
        "colab": {}
      },
      "source": [
        "# The trained model is ready to make predictions\n",
        "pred = log_reg.predict(normalised_test_df)"
      ],
      "execution_count": 26,
      "outputs": []
    },
    {
      "cell_type": "markdown",
      "metadata": {
        "id": "25qmjkpBaYbB",
        "colab_type": "text"
      },
      "source": [
        "MEASURING CLASSIFICATION PERFORMANCE"
      ]
    },
    {
      "cell_type": "code",
      "metadata": {
        "id": "A2KUodCCjGtc",
        "colab_type": "code",
        "colab": {
          "base_uri": "https://localhost:8080/",
          "height": 51
        },
        "outputId": "933007b2-5631-4676-da29-78018d6d3e52"
      },
      "source": [
        "# Computing the confusion matrix for the model. Logistic Regression Confussion Matrix\n",
        "# import metrics\n",
        "from sklearn.metrics import recall_score, accuracy_score, precision_score, f1_score, confusion_matrix\n",
        "cnf_mat = confusion_matrix(y_true=y_test, y_pred=pred, labels=[0,1])\n",
        "cnf_mat"
      ],
      "execution_count": 27,
      "outputs": [
        {
          "output_type": "execute_result",
          "data": {
            "text/plain": [
              "array([[ 494,  218],\n",
              "       [ 174, 1114]])"
            ]
          },
          "metadata": {
            "tags": []
          },
          "execution_count": 27
        }
      ]
    },
    {
      "cell_type": "code",
      "metadata": {
        "id": "TjcpRpW7luhJ",
        "colab_type": "code",
        "colab": {
          "base_uri": "https://localhost:8080/",
          "height": 111
        },
        "outputId": "54a485b7-5d7f-4ac2-a768-023224517d6a"
      },
      "source": [
        "# Previewing the Confusion Matrix in DataFrame\n",
        "cnf_mat_df = pd.DataFrame(cnf_mat, columns=['Actual Positive', 'Actual Negative'], \n",
        "                          index=['Predicted Positive', 'Predicted Negative'])\n",
        "cnf_mat_df"
      ],
      "execution_count": 28,
      "outputs": [
        {
          "output_type": "execute_result",
          "data": {
            "text/html": [
              "<div>\n",
              "<style scoped>\n",
              "    .dataframe tbody tr th:only-of-type {\n",
              "        vertical-align: middle;\n",
              "    }\n",
              "\n",
              "    .dataframe tbody tr th {\n",
              "        vertical-align: top;\n",
              "    }\n",
              "\n",
              "    .dataframe thead th {\n",
              "        text-align: right;\n",
              "    }\n",
              "</style>\n",
              "<table border=\"1\" class=\"dataframe\">\n",
              "  <thead>\n",
              "    <tr style=\"text-align: right;\">\n",
              "      <th></th>\n",
              "      <th>Actual Positive</th>\n",
              "      <th>Actual Negative</th>\n",
              "    </tr>\n",
              "  </thead>\n",
              "  <tbody>\n",
              "    <tr>\n",
              "      <th>Predicted Positive</th>\n",
              "      <td>494</td>\n",
              "      <td>218</td>\n",
              "    </tr>\n",
              "    <tr>\n",
              "      <th>Predicted Negative</th>\n",
              "      <td>174</td>\n",
              "      <td>1114</td>\n",
              "    </tr>\n",
              "  </tbody>\n",
              "</table>\n",
              "</div>"
            ],
            "text/plain": [
              "                    Actual Positive  Actual Negative\n",
              "Predicted Positive              494              218\n",
              "Predicted Negative              174             1114"
            ]
          },
          "metadata": {
            "tags": []
          },
          "execution_count": 28
        }
      ]
    },
    {
      "cell_type": "code",
      "metadata": {
        "id": "nDruQjq_l38U",
        "colab_type": "code",
        "colab": {
          "base_uri": "https://localhost:8080/",
          "height": 85
        },
        "outputId": "140e951b-d54d-469d-9ae9-67f70343cf3e"
      },
      "source": [
        "print(\"{} is the bumber of True Positive (TP).\".format(cnf_mat_df.iloc[0,0]))\n",
        "print(\"{} is the bumber of False Positive (FP).\".format(cnf_mat_df.iloc[0,1])) # Type I error\n",
        "print(\"{} is the bumber of True Negative (TP).\".format(cnf_mat_df.iloc[1,0]))\n",
        "print(\"{} is the bumber of False Negative (TP).\".format(cnf_mat_df.iloc[1,1]))  # Type II error"
      ],
      "execution_count": 29,
      "outputs": [
        {
          "output_type": "stream",
          "text": [
            "494 is the bumber of True Positive (TP).\n",
            "218 is the bumber of False Positive (FP).\n",
            "174 is the bumber of True Negative (TP).\n",
            "1114 is the bumber of False Negative (TP).\n"
          ],
          "name": "stdout"
        }
      ]
    },
    {
      "cell_type": "code",
      "metadata": {
        "id": "TqKN4qAZmTx0",
        "colab_type": "code",
        "colab": {
          "base_uri": "https://localhost:8080/",
          "height": 34
        },
        "outputId": "f45ad517-94ce-4eac-e6b8-4bcc9e7800fa"
      },
      "source": [
        "# Calculate Accuracy\n",
        "# NOTE: Accuracy is only accurate if the model is balanced. It will give inaccurate results if there is a class imbalance.\n",
        "\n",
        "accuracy = accuracy_score(y_true=y_test, y_pred=pred)\n",
        "print('Accuracy: {}'.format(round(accuracy*100), 2))"
      ],
      "execution_count": 30,
      "outputs": [
        {
          "output_type": "stream",
          "text": [
            "Accuracy: 80.0\n"
          ],
          "name": "stdout"
        }
      ]
    },
    {
      "cell_type": "code",
      "metadata": {
        "id": "Xd-ecsFhnB2Z",
        "colab_type": "code",
        "colab": {
          "base_uri": "https://localhost:8080/",
          "height": 34
        },
        "outputId": "f407e35a-980d-4935-ae95-6fdbdcb6e575"
      },
      "source": [
        "# PRECISION \n",
        "# Precision is the ratio of correctly predicted instances of a class to the total number of items predicted by the model to be in that class\n",
        "\n",
        "precision = precision_score(y_true=y_test, y_pred=pred, pos_label=0)\n",
        "print('Precision: {}'.format(round(precision*100), 2))"
      ],
      "execution_count": 31,
      "outputs": [
        {
          "output_type": "stream",
          "text": [
            "Precision: 74.0\n"
          ],
          "name": "stdout"
        }
      ]
    },
    {
      "cell_type": "code",
      "metadata": {
        "id": "8AyuBCsmnmwH",
        "colab_type": "code",
        "colab": {
          "base_uri": "https://localhost:8080/",
          "height": 34
        },
        "outputId": "f8068820-f9db-4108-9dbd-49c98d7473dd"
      },
      "source": [
        "# Recall\n",
        "\n",
        "recall = recall_score(y_true=y_test, y_pred=pred, pos_label=0)\n",
        "print(\"Recall: {}\".format(round(recall*100), 2))"
      ],
      "execution_count": 32,
      "outputs": [
        {
          "output_type": "stream",
          "text": [
            "Recall: 69.0\n"
          ],
          "name": "stdout"
        }
      ]
    },
    {
      "cell_type": "code",
      "metadata": {
        "id": "PbiGvxXRoMZG",
        "colab_type": "code",
        "colab": {
          "base_uri": "https://localhost:8080/",
          "height": 34
        },
        "outputId": "366f068d-c32c-4015-d458-ebc093f4d7dc"
      },
      "source": [
        "# F1_Score\n",
        "\n",
        "f1 = f1_score(y_true=y_test, y_pred=pred, pos_label=0)\n",
        "print(\"F1: {}\".format(round(f1*100),2))"
      ],
      "execution_count": 33,
      "outputs": [
        {
          "output_type": "stream",
          "text": [
            "F1: 72.0\n"
          ],
          "name": "stdout"
        }
      ]
    },
    {
      "cell_type": "code",
      "metadata": {
        "id": "ZDCgMTJyxkjz",
        "colab_type": "code",
        "colab": {
          "base_uri": "https://localhost:8080/",
          "height": 170
        },
        "outputId": "50f7af7d-bfec-49f9-f9a6-936dffa396e3"
      },
      "source": [
        "from sklearn.metrics import classification_report\n",
        "print(classification_report(y_test, pred, digits=4))"
      ],
      "execution_count": 34,
      "outputs": [
        {
          "output_type": "stream",
          "text": [
            "              precision    recall  f1-score   support\n",
            "\n",
            "           0     0.7395    0.6938    0.7159       712\n",
            "           1     0.8363    0.8649    0.8504      1288\n",
            "\n",
            "    accuracy                         0.8040      2000\n",
            "   macro avg     0.7879    0.7794    0.7832      2000\n",
            "weighted avg     0.8019    0.8040    0.8025      2000\n",
            "\n"
          ],
          "name": "stdout"
        }
      ]
    },
    {
      "cell_type": "markdown",
      "metadata": {
        "id": "2KV6zrfzyoxS",
        "colab_type": "text"
      },
      "source": [
        "Performing Evaluation Operation techniques for improving performance"
      ]
    },
    {
      "cell_type": "code",
      "metadata": {
        "id": "RPx3Hv-Xy2Gl",
        "colab_type": "code",
        "colab": {
          "base_uri": "https://localhost:8080/",
          "height": 34
        },
        "outputId": "a92ffe7f-d5d6-4ebe-b3d4-91dfdf69fdf6"
      },
      "source": [
        "# Cross Validation\n",
        "from sklearn.model_selection import cross_val_score\n",
        "scores = cross_val_score(log_reg, normalised_train_df, y_train, cv=None, scoring=None)\n",
        "scores*100"
      ],
      "execution_count": 45,
      "outputs": [
        {
          "output_type": "execute_result",
          "data": {
            "text/plain": [
              "array([82.3125, 82.25  , 82.5   , 81.5625, 80.125 ])"
            ]
          },
          "metadata": {
            "tags": []
          },
          "execution_count": 45
        }
      ]
    },
    {
      "cell_type": "markdown",
      "metadata": {
        "id": "fXRji-DclooM",
        "colab_type": "text"
      },
      "source": [
        "## Training a Random Forest Classifier"
      ]
    },
    {
      "cell_type": "code",
      "metadata": {
        "id": "QjTHANHdI36G",
        "colab_type": "code",
        "colab": {
          "base_uri": "https://localhost:8080/",
          "height": 153
        },
        "outputId": "4830fe23-658e-42f6-f1cc-d5e1770c0735"
      },
      "source": [
        "# Training a Random Forest Classifier\n",
        "from sklearn.ensemble import RandomForestClassifier\n",
        "classifier = RandomForestClassifier(random_state=1)\n",
        "\n",
        "# Train the model using the training sets\n",
        "classifier.fit(normalised_train_df, y_train)"
      ],
      "execution_count": 104,
      "outputs": [
        {
          "output_type": "execute_result",
          "data": {
            "text/plain": [
              "RandomForestClassifier(bootstrap=True, ccp_alpha=0.0, class_weight=None,\n",
              "                       criterion='gini', max_depth=None, max_features='auto',\n",
              "                       max_leaf_nodes=None, max_samples=None,\n",
              "                       min_impurity_decrease=0.0, min_impurity_split=None,\n",
              "                       min_samples_leaf=1, min_samples_split=2,\n",
              "                       min_weight_fraction_leaf=0.0, n_estimators=100,\n",
              "                       n_jobs=None, oob_score=False, random_state=1, verbose=0,\n",
              "                       warm_start=False)"
            ]
          },
          "metadata": {
            "tags": []
          },
          "execution_count": 104
        }
      ]
    },
    {
      "cell_type": "markdown",
      "metadata": {
        "id": "ks5VU271YO4G",
        "colab_type": "text"
      },
      "source": [
        "**The above output shows different parameter values of the trained random forest classifier.**"
      ]
    },
    {
      "cell_type": "code",
      "metadata": {
        "id": "QYxk0x3TX6UF",
        "colab_type": "code",
        "colab": {}
      },
      "source": [
        "# Predict on the test set\n",
        "rfc_pred = classifier.predict(normalised_test_df)"
      ],
      "execution_count": 105,
      "outputs": []
    },
    {
      "cell_type": "code",
      "metadata": {
        "id": "fN6k38l1ZXVA",
        "colab_type": "code",
        "colab": {
          "base_uri": "https://localhost:8080/",
          "height": 34
        },
        "outputId": "874e33d8-95f5-4025-f571-c16db82c2972"
      },
      "source": [
        "# Check Random Forest Classifier Model Accuracy using actual and predicted values from the test data\n",
        "print(\"Accuracy:\", accuracy_score(y_test, rfc_pred))"
      ],
      "execution_count": 106,
      "outputs": [
        {
          "output_type": "stream",
          "text": [
            "Accuracy: 0.929\n"
          ],
          "name": "stdout"
        }
      ]
    },
    {
      "cell_type": "code",
      "metadata": {
        "id": "GkE8Fx3aaarZ",
        "colab_type": "code",
        "colab": {
          "base_uri": "https://localhost:8080/",
          "height": 170
        },
        "outputId": "20bb3194-0d41-4a96-c33c-5fa8e5a61258"
      },
      "source": [
        "print(classification_report(y_test, rfc_pred, digits=4))"
      ],
      "execution_count": 107,
      "outputs": [
        {
          "output_type": "stream",
          "text": [
            "              precision    recall  f1-score   support\n",
            "\n",
            "           0     0.9191    0.8778    0.8980       712\n",
            "           1     0.9341    0.9573    0.9456      1288\n",
            "\n",
            "    accuracy                         0.9290      2000\n",
            "   macro avg     0.9266    0.9176    0.9218      2000\n",
            "weighted avg     0.9288    0.9290    0.9286      2000\n",
            "\n"
          ],
          "name": "stdout"
        }
      ]
    },
    {
      "cell_type": "markdown",
      "metadata": {
        "id": "zlwTse1wa5oq",
        "colab_type": "text"
      },
      "source": [
        "We can notice improvement in our predictions. Accuracy with Logistic Regressor model was **80%**, but our Random Forest Classifier model performed better with an accuracy of **92%** (as expected) "
      ]
    },
    {
      "cell_type": "code",
      "metadata": {
        "id": "X0I4Bto0bBVe",
        "colab_type": "code",
        "colab": {
          "base_uri": "https://localhost:8080/",
          "height": 421
        },
        "outputId": "03f59b50-0b45-4f2e-a623-a143dbb1c4a6"
      },
      "source": [
        "# check Important features\n",
        "feature_importances_df = pd.DataFrame(\n",
        "    {\"feature\": list(x_train.columns), \"importance\": classifier.feature_importances_}\n",
        ").sort_values(\"importance\", ascending=False)\n",
        "\n",
        "feature_importances_df"
      ],
      "execution_count": 108,
      "outputs": [
        {
          "output_type": "execute_result",
          "data": {
            "text/html": [
              "<div>\n",
              "<style scoped>\n",
              "    .dataframe tbody tr th:only-of-type {\n",
              "        vertical-align: middle;\n",
              "    }\n",
              "\n",
              "    .dataframe tbody tr th {\n",
              "        vertical-align: top;\n",
              "    }\n",
              "\n",
              "    .dataframe thead th {\n",
              "        text-align: right;\n",
              "    }\n",
              "</style>\n",
              "<table border=\"1\" class=\"dataframe\">\n",
              "  <thead>\n",
              "    <tr style=\"text-align: right;\">\n",
              "      <th></th>\n",
              "      <th>feature</th>\n",
              "      <th>importance</th>\n",
              "    </tr>\n",
              "  </thead>\n",
              "  <tbody>\n",
              "    <tr>\n",
              "      <th>1</th>\n",
              "      <td>tau2</td>\n",
              "      <td>0.126307</td>\n",
              "    </tr>\n",
              "    <tr>\n",
              "      <th>0</th>\n",
              "      <td>tau1</td>\n",
              "      <td>0.124432</td>\n",
              "    </tr>\n",
              "    <tr>\n",
              "      <th>2</th>\n",
              "      <td>tau3</td>\n",
              "      <td>0.122057</td>\n",
              "    </tr>\n",
              "    <tr>\n",
              "      <th>3</th>\n",
              "      <td>tau4</td>\n",
              "      <td>0.121401</td>\n",
              "    </tr>\n",
              "    <tr>\n",
              "      <th>10</th>\n",
              "      <td>g3</td>\n",
              "      <td>0.100325</td>\n",
              "    </tr>\n",
              "    <tr>\n",
              "      <th>9</th>\n",
              "      <td>g2</td>\n",
              "      <td>0.097689</td>\n",
              "    </tr>\n",
              "    <tr>\n",
              "      <th>11</th>\n",
              "      <td>g4</td>\n",
              "      <td>0.097048</td>\n",
              "    </tr>\n",
              "    <tr>\n",
              "      <th>8</th>\n",
              "      <td>g1</td>\n",
              "      <td>0.090765</td>\n",
              "    </tr>\n",
              "    <tr>\n",
              "      <th>5</th>\n",
              "      <td>p2</td>\n",
              "      <td>0.031411</td>\n",
              "    </tr>\n",
              "    <tr>\n",
              "      <th>6</th>\n",
              "      <td>p3</td>\n",
              "      <td>0.029956</td>\n",
              "    </tr>\n",
              "    <tr>\n",
              "      <th>7</th>\n",
              "      <td>p4</td>\n",
              "      <td>0.029475</td>\n",
              "    </tr>\n",
              "    <tr>\n",
              "      <th>4</th>\n",
              "      <td>p1</td>\n",
              "      <td>0.029132</td>\n",
              "    </tr>\n",
              "  </tbody>\n",
              "</table>\n",
              "</div>"
            ],
            "text/plain": [
              "   feature  importance\n",
              "1     tau2    0.126307\n",
              "0     tau1    0.124432\n",
              "2     tau3    0.122057\n",
              "3     tau4    0.121401\n",
              "10      g3    0.100325\n",
              "9       g2    0.097689\n",
              "11      g4    0.097048\n",
              "8       g1    0.090765\n",
              "5       p2    0.031411\n",
              "6       p3    0.029956\n",
              "7       p4    0.029475\n",
              "4       p1    0.029132"
            ]
          },
          "metadata": {
            "tags": []
          },
          "execution_count": 108
        }
      ]
    },
    {
      "cell_type": "code",
      "metadata": {
        "id": "FMGO0pechami",
        "colab_type": "code",
        "colab": {
          "base_uri": "https://localhost:8080/",
          "height": 318
        },
        "outputId": "36fe3470-e2f1-4f3d-b516-df8cf5c8e9ca"
      },
      "source": [
        "# visualize important featuers\n",
        "\n",
        "import numpy as np\n",
        "import pandas as pd\n",
        "import matplotlib.pyplot as plt\n",
        "import seaborn as sns\n",
        "\n",
        "%matplotlib inline\n",
        "\n",
        "# Creating a bar plot\n",
        "sns.barplot(x=feature_importances_df.feature, y=feature_importances_df.importance)\n",
        "\n",
        "plt.xlabel(\"Feature Importance Score\")\n",
        "plt.ylabel(\"Features\")\n",
        "plt.title(\"Visualizing Important Features\")\n",
        "\n",
        "plt.xticks(\n",
        "    rotation=45, horizontalalignment=\"right\", fontweight=\"light\", fontsize=\"x-large\"\n",
        ")\n",
        "plt.show()"
      ],
      "execution_count": 109,
      "outputs": [
        {
          "output_type": "display_data",
          "data": {
            "image/png": "[encoded data removed]",
            "text/plain": [
              "<Figure size 432x288 with 1 Axes>"
            ]
          },
          "metadata": {
            "tags": [],
            "needs_background": "light"
          }
        }
      ]
    },
    {
      "cell_type": "markdown",
      "metadata": {
        "id": "yU0dOTemlQrJ",
        "colab_type": "text"
      },
      "source": [
        "## Training an Extra Tree Classifier"
      ]
    },
    {
      "cell_type": "code",
      "metadata": {
        "id": "qLoomllWlClr",
        "colab_type": "code",
        "colab": {
          "base_uri": "https://localhost:8080/",
          "height": 153
        },
        "outputId": "0d99a2e6-c40c-4d79-9fdf-800b85d99cc6"
      },
      "source": [
        "#extra tree classifier\n",
        "from sklearn.ensemble import ExtraTreesClassifier\n",
        "extratree = ExtraTreesClassifier(random_state=1)\n",
        "extratree.fit(normalised_train_df, y_train)\n"
      ],
      "execution_count": 110,
      "outputs": [
        {
          "output_type": "execute_result",
          "data": {
            "text/plain": [
              "ExtraTreesClassifier(bootstrap=False, ccp_alpha=0.0, class_weight=None,\n",
              "                     criterion='gini', max_depth=None, max_features='auto',\n",
              "                     max_leaf_nodes=None, max_samples=None,\n",
              "                     min_impurity_decrease=0.0, min_impurity_split=None,\n",
              "                     min_samples_leaf=1, min_samples_split=2,\n",
              "                     min_weight_fraction_leaf=0.0, n_estimators=100,\n",
              "                     n_jobs=None, oob_score=False, random_state=1, verbose=0,\n",
              "                     warm_start=False)"
            ]
          },
          "metadata": {
            "tags": []
          },
          "execution_count": 110
        }
      ]
    },
    {
      "cell_type": "code",
      "metadata": {
        "id": "UkRCDekxoqjB",
        "colab_type": "code",
        "colab": {}
      },
      "source": [
        "extratree_pred = extratree.predict(normalised_test_df)"
      ],
      "execution_count": 111,
      "outputs": []
    },
    {
      "cell_type": "code",
      "metadata": {
        "id": "DraQvyDIo-Y5",
        "colab_type": "code",
        "colab": {}
      },
      "source": [
        "# Setting the Hyperparameters\n",
        "n_estimators = [50, 100, 300, 500, 1000]\n",
        "min_samples_split = [2, 3, 5, 7, 9] \n",
        "min_samples_leaf = [1, 2, 4, 6, 8]\n",
        "max_features = ['auto', 'sqrt', 'log2', None] \n",
        "\n",
        "hyperparameter_grid = {'n_estimators': n_estimators,\n",
        "                       'min_samples_leaf': min_samples_leaf,\n",
        "                       'min_samples_split': min_samples_split,\n",
        "                       'max_features': max_features}"
      ],
      "execution_count": 114,
      "outputs": []
    },
    {
      "cell_type": "code",
      "metadata": {
        "id": "cCtOHoXsqp2Y",
        "colab_type": "code",
        "colab": {
          "base_uri": "https://localhost:8080/",
          "height": 544
        },
        "outputId": "a9481300-a6bd-4d9b-935c-1191cc7abe8a"
      },
      "source": [
        "from sklearn.model_selection import RandomizedSearchCV\n",
        "extra_random = RandomizedSearchCV(\n",
        "                          extratree, hyperparameter_grid, random_state=1, cv=5,\n",
        "                          n_iter=10, scoring = 'accuracy', n_jobs = -1, verbose = 1\n",
        "                          )\n",
        "extra_random.fit(normalised_train_df, y_train)"
      ],
      "execution_count": 123,
      "outputs": [
        {
          "output_type": "stream",
          "text": [
            "Fitting 5 folds for each of 10 candidates, totalling 50 fits\n"
          ],
          "name": "stdout"
        },
        {
          "output_type": "stream",
          "text": [
            "[Parallel(n_jobs=-1)]: Using backend LokyBackend with 2 concurrent workers.\n",
            "[Parallel(n_jobs=-1)]: Done  46 tasks      | elapsed:  1.5min\n",
            "[Parallel(n_jobs=-1)]: Done  50 out of  50 | elapsed:  1.5min finished\n"
          ],
          "name": "stderr"
        },
        {
          "output_type": "execute_result",
          "data": {
            "text/plain": [
              "RandomizedSearchCV(cv=5, error_score=nan,\n",
              "                   estimator=ExtraTreesClassifier(bootstrap=False,\n",
              "                                                  ccp_alpha=0.0,\n",
              "                                                  class_weight=None,\n",
              "                                                  criterion='gini',\n",
              "                                                  max_depth=None,\n",
              "                                                  max_features='auto',\n",
              "                                                  max_leaf_nodes=None,\n",
              "                                                  max_samples=None,\n",
              "                                                  min_impurity_decrease=0.0,\n",
              "                                                  min_impurity_split=None,\n",
              "                                                  min_samples_leaf=1,\n",
              "                                                  min_samples_split=2,\n",
              "                                                  min_weight_fraction_leaf=0.0,\n",
              "                                                  n_estimators=100, n_jobs=...\n",
              "                                                  oob_score=False,\n",
              "                                                  random_state=1, verbose=0,\n",
              "                                                  warm_start=False),\n",
              "                   iid='deprecated', n_iter=10, n_jobs=-1,\n",
              "                   param_distributions={'max_features': ['auto', 'sqrt', 'log2',\n",
              "                                                         None],\n",
              "                                        'min_samples_leaf': [1, 2, 4, 6, 8],\n",
              "                                        'min_samples_split': [2, 3, 5, 7, 9],\n",
              "                                        'n_estimators': [50, 100, 300, 500,\n",
              "                                                         1000]},\n",
              "                   pre_dispatch='2*n_jobs', random_state=1, refit=True,\n",
              "                   return_train_score=False, scoring='accuracy', verbose=1)"
            ]
          },
          "metadata": {
            "tags": []
          },
          "execution_count": 123
        }
      ]
    },
    {
      "cell_type": "code",
      "metadata": {
        "id": "8UKJZ5Gyytw9",
        "colab_type": "code",
        "colab": {
          "base_uri": "https://localhost:8080/",
          "height": 34
        },
        "outputId": "d6788fba-f5cb-4eff-86d4-2a19943de54e"
      },
      "source": [
        "#checking for the best parameter for the model\n",
        "search.best_params_.values()"
      ],
      "execution_count": 124,
      "outputs": [
        {
          "output_type": "execute_result",
          "data": {
            "text/plain": [
              "dict_values([1000, 2, 8, None])"
            ]
          },
          "metadata": {
            "tags": []
          },
          "execution_count": 124
        }
      ]
    },
    {
      "cell_type": "markdown",
      "metadata": {
        "id": "AumCs6x7DqBn",
        "colab_type": "text"
      },
      "source": [
        "# Creating the Optimal Extra Trees Classifier with the above optimal parameters"
      ]
    },
    {
      "cell_type": "code",
      "metadata": {
        "id": "5nuaFNRd5d9k",
        "colab_type": "code",
        "colab": {}
      },
      "source": [
        "# Using the searched parameters build a model with the best performance\n",
        "besttree_param = ExtraTreesClassifier(n_estimators=1000, min_samples_split=2, \n",
        "                                 min_samples_leaf=8, max_features=None)\n",
        "besttree_param.fit(normalised_train_df, y_train)\n",
        "besttree_param_pred = besttree_param.predict(normalised_test_df)"
      ],
      "execution_count": 126,
      "outputs": []
    },
    {
      "cell_type": "code",
      "metadata": {
        "id": "v9ACcCUj7_d9",
        "colab_type": "code",
        "colab": {
          "base_uri": "https://localhost:8080/",
          "height": 170
        },
        "outputId": "1ef8cf3f-4a31-4634-a801-d15f6ac8af2e"
      },
      "source": [
        "# Classification report after this hyperparameter tuning\n",
        "print(classification_report(y_test, besttree_param_pred))"
      ],
      "execution_count": 129,
      "outputs": [
        {
          "output_type": "stream",
          "text": [
            "              precision    recall  f1-score   support\n",
            "\n",
            "           0       0.93      0.88      0.90       712\n",
            "           1       0.93      0.96      0.95      1288\n",
            "\n",
            "    accuracy                           0.93      2000\n",
            "   macro avg       0.93      0.92      0.92      2000\n",
            "weighted avg       0.93      0.93      0.93      2000\n",
            "\n"
          ],
          "name": "stdout"
        }
      ]
    },
    {
      "cell_type": "markdown",
      "metadata": {
        "id": "Vo4L1x5QE1Na",
        "colab_type": "text"
      },
      "source": [
        "## Finding the feature importance using the optimal Extra Trees Classifier Model"
      ]
    },
    {
      "cell_type": "code",
      "metadata": {
        "id": "b53pAxGSE15B",
        "colab_type": "code",
        "colab": {
          "base_uri": "https://localhost:8080/",
          "height": 421
        },
        "outputId": "bdebceab-6fbe-46c9-8597-a6b36fba1037"
      },
      "source": [
        "# check Important features Using the Optimal Extra Trees model.\n",
        "# we will make use of the trained model\n",
        "\n",
        "feature_importances_df = pd.DataFrame(\n",
        "    {\"feature\": list(x_train.columns), \"importance\": besttree_param.feature_importances_}\n",
        ").sort_values(\"importance\", ascending=False)\n",
        "\n",
        "feature_importances_df"
      ],
      "execution_count": 136,
      "outputs": [
        {
          "output_type": "execute_result",
          "data": {
            "text/html": [
              "<div>\n",
              "<style scoped>\n",
              "    .dataframe tbody tr th:only-of-type {\n",
              "        vertical-align: middle;\n",
              "    }\n",
              "\n",
              "    .dataframe tbody tr th {\n",
              "        vertical-align: top;\n",
              "    }\n",
              "\n",
              "    .dataframe thead th {\n",
              "        text-align: right;\n",
              "    }\n",
              "</style>\n",
              "<table border=\"1\" class=\"dataframe\">\n",
              "  <thead>\n",
              "    <tr style=\"text-align: right;\">\n",
              "      <th></th>\n",
              "      <th>feature</th>\n",
              "      <th>importance</th>\n",
              "    </tr>\n",
              "  </thead>\n",
              "  <tbody>\n",
              "    <tr>\n",
              "      <th>1</th>\n",
              "      <td>tau2</td>\n",
              "      <td>0.140477</td>\n",
              "    </tr>\n",
              "    <tr>\n",
              "      <th>0</th>\n",
              "      <td>tau1</td>\n",
              "      <td>0.137940</td>\n",
              "    </tr>\n",
              "    <tr>\n",
              "      <th>3</th>\n",
              "      <td>tau4</td>\n",
              "      <td>0.135438</td>\n",
              "    </tr>\n",
              "    <tr>\n",
              "      <th>2</th>\n",
              "      <td>tau3</td>\n",
              "      <td>0.134168</td>\n",
              "    </tr>\n",
              "    <tr>\n",
              "      <th>10</th>\n",
              "      <td>g3</td>\n",
              "      <td>0.112116</td>\n",
              "    </tr>\n",
              "    <tr>\n",
              "      <th>11</th>\n",
              "      <td>g4</td>\n",
              "      <td>0.109614</td>\n",
              "    </tr>\n",
              "    <tr>\n",
              "      <th>9</th>\n",
              "      <td>g2</td>\n",
              "      <td>0.108112</td>\n",
              "    </tr>\n",
              "    <tr>\n",
              "      <th>8</th>\n",
              "      <td>g1</td>\n",
              "      <td>0.102480</td>\n",
              "    </tr>\n",
              "    <tr>\n",
              "      <th>6</th>\n",
              "      <td>p3</td>\n",
              "      <td>0.005469</td>\n",
              "    </tr>\n",
              "    <tr>\n",
              "      <th>5</th>\n",
              "      <td>p2</td>\n",
              "      <td>0.005372</td>\n",
              "    </tr>\n",
              "    <tr>\n",
              "      <th>7</th>\n",
              "      <td>p4</td>\n",
              "      <td>0.005117</td>\n",
              "    </tr>\n",
              "    <tr>\n",
              "      <th>4</th>\n",
              "      <td>p1</td>\n",
              "      <td>0.003697</td>\n",
              "    </tr>\n",
              "  </tbody>\n",
              "</table>\n",
              "</div>"
            ],
            "text/plain": [
              "   feature  importance\n",
              "1     tau2    0.140477\n",
              "0     tau1    0.137940\n",
              "3     tau4    0.135438\n",
              "2     tau3    0.134168\n",
              "10      g3    0.112116\n",
              "11      g4    0.109614\n",
              "9       g2    0.108112\n",
              "8       g1    0.102480\n",
              "6       p3    0.005469\n",
              "5       p2    0.005372\n",
              "7       p4    0.005117\n",
              "4       p1    0.003697"
            ]
          },
          "metadata": {
            "tags": []
          },
          "execution_count": 136
        }
      ]
    },
    {
      "cell_type": "markdown",
      "metadata": {
        "id": "Nb6B3vRo997O",
        "colab_type": "text"
      },
      "source": [
        "And use xgboost and lightgbm to train an extreme boosting model and a light gradient boosting model."
      ]
    },
    {
      "cell_type": "markdown",
      "metadata": {
        "id": "J60Wt12p-DKW",
        "colab_type": "text"
      },
      "source": [
        "### **Training an Extreme Boosting Model**, XGBOOST\n",
        "\n"
      ]
    },
    {
      "cell_type": "code",
      "metadata": {
        "id": "Z6osuPF0-NIj",
        "colab_type": "code",
        "colab": {}
      },
      "source": [
        "# Using xgboost to create an extreme gradient boosting model\n",
        "from xgboost import XGBClassifier\n",
        "extreme = XGBClassifier(random_state=1)\n",
        "extreme.fit(normalised_train_df, y_train)\n",
        "extreme_pred = extreme.predict(normalised_test_df)"
      ],
      "execution_count": 130,
      "outputs": []
    },
    {
      "cell_type": "code",
      "metadata": {
        "id": "d9yPR1I7_VaL",
        "colab_type": "code",
        "colab": {
          "base_uri": "https://localhost:8080/",
          "height": 170
        },
        "outputId": "5e297f77-d259-4b72-e091-661b55d1cb3d"
      },
      "source": [
        "# Classification report for the xgboost classifier \n",
        "print(classification_report(y_test, extreme_pred))\n"
      ],
      "execution_count": 133,
      "outputs": [
        {
          "output_type": "stream",
          "text": [
            "              precision    recall  f1-score   support\n",
            "\n",
            "           0       0.92      0.85      0.88       712\n",
            "           1       0.92      0.96      0.94      1288\n",
            "\n",
            "    accuracy                           0.92      2000\n",
            "   macro avg       0.92      0.90      0.91      2000\n",
            "weighted avg       0.92      0.92      0.92      2000\n",
            "\n"
          ],
          "name": "stdout"
        }
      ]
    },
    {
      "cell_type": "markdown",
      "metadata": {
        "id": "Yz73QsrNBFAm",
        "colab_type": "text"
      },
      "source": [
        "**This xgboost model gives an accuracy of 92%**"
      ]
    },
    {
      "cell_type": "code",
      "metadata": {
        "id": "vGRWAvhE_kI1",
        "colab_type": "code",
        "colab": {}
      },
      "source": [
        "# Using lightgbm to create a light gradient boosting model\n",
        "from lightgbm import LGBMClassifier\n",
        "light = LGBMClassifier()\n",
        "light.fit(normalised_train_df, y_train)\n",
        "light_pred = light.predict(normalised_test_df)"
      ],
      "execution_count": 134,
      "outputs": []
    },
    {
      "cell_type": "code",
      "metadata": {
        "id": "E6gX3MLGAmJL",
        "colab_type": "code",
        "colab": {
          "base_uri": "https://localhost:8080/",
          "height": 170
        },
        "outputId": "70c39359-b904-4025-c25e-6372e9a6c710"
      },
      "source": [
        "# Classification report for the lightgbm classifier created above\n",
        "print(classification_report(y_test, light_pred))"
      ],
      "execution_count": 135,
      "outputs": [
        {
          "output_type": "stream",
          "text": [
            "              precision    recall  f1-score   support\n",
            "\n",
            "           0       0.93      0.89      0.91       712\n",
            "           1       0.94      0.96      0.95      1288\n",
            "\n",
            "    accuracy                           0.94      2000\n",
            "   macro avg       0.94      0.93      0.93      2000\n",
            "weighted avg       0.94      0.94      0.94      2000\n",
            "\n"
          ],
          "name": "stdout"
        }
      ]
    },
    {
      "cell_type": "markdown",
      "metadata": {
        "id": "Biqhr-kRBh4d",
        "colab_type": "text"
      },
      "source": [
        "**This lightgbm model has an accuracy of 92%**"
      ]
    }
  ]
}